{
 "cells": [
  {
   "cell_type": "code",
   "execution_count": 1,
   "metadata": {
    "collapsed": true
   },
   "outputs": [],
   "source": [
    "%matplotlib inline\n",
    "import numpy as np\n",
    "import matplotlib.pyplot as plt\n",
    "import pylab\n",
    "pylab.rcParams['figure.figsize'] = (10.0, 10.0)\n",
    "import random"
   ]
  },
  {
   "cell_type": "code",
   "execution_count": 2,
   "metadata": {
    "collapsed": true
   },
   "outputs": [],
   "source": [
    "n = 1000\n",
    "mu = 3.96\n",
    "x0s = [0.23, 0.34, 0.61, 0.88]"
   ]
  },
  {
   "cell_type": "code",
   "execution_count": 3,
   "metadata": {
    "collapsed": false
   },
   "outputs": [],
   "source": [
    "def f(x):\n",
    "    return mu * x * (1 - x)\n",
    "\n",
    "def make_seq(x0):\n",
    "    seq = [x0]\n",
    "    x_curr = x0\n",
    "    for i in range(n):\n",
    "        x_next = f(x_curr)\n",
    "        seq.append(x_next)\n",
    "        x_curr = x_next\n",
    "    return seq\n",
    "\n",
    "seqs = []\n",
    "for x0 in x0s:\n",
    "    seqs.append(make_seq(x0))"
   ]
  },
  {
   "cell_type": "code",
   "execution_count": null,
   "metadata": {
    "collapsed": true
   },
   "outputs": [],
   "source": [
    "def make_plot(x, y):\n",
    "    plt.plot(x, y)"
   ]
  },
  {
   "cell_type": "code",
   "execution_count": null,
   "metadata": {
    "collapsed": false
   },
   "outputs": [],
   "source": [
    "for seq in seqs:\n",
    "    make_plot(range(len(seq)), seq)"
   ]
  },
  {
   "cell_type": "code",
   "execution_count": null,
   "metadata": {
    "collapsed": false
   },
   "outputs": [],
   "source": [
    "seq = seqs[0]\n",
    "seq_shifted = seq[:]\n",
    "seq_shifted.insert(0, 0)\n",
    "seq_shifted.pop(-1)\n",
    "\n",
    "make_plot(seq_shifted, seq)"
   ]
  },
  {
   "cell_type": "code",
   "execution_count": null,
   "metadata": {
    "collapsed": false
   },
   "outputs": [],
   "source": [
    "def make_xy_item(x, y, e):\n",
    "    x_next = f(x) - e * (f(x) - f(y))\n",
    "    y_next = f(y) + e * (f(x) - f(y))\n",
    "    return x_next, y_next\n",
    "\n",
    "def make_xy_system(x0, y0, e):\n",
    "    xs = []\n",
    "    ys = []\n",
    "    x_c, y_c = x0, y0    \n",
    "    for i in range(n):\n",
    "        x_n, y_n = make_xy_item(x_c, y_c, e)        \n",
    "        xs.append(x_n)\n",
    "        ys.append(y_n)\n",
    "        x_c = x_n\n",
    "        y_c = y_n\n",
    "    return xs, ys"
   ]
  },
  {
   "cell_type": "code",
   "execution_count": null,
   "metadata": {
    "collapsed": false
   },
   "outputs": [],
   "source": [
    "es = [i for i in np.arange(0.05, 0.45, 0.04)]\n",
    "x0, y0 = x0s[0], x0s[1]\n",
    "\n",
    "xy_seqs = []\n",
    "for e in es:\n",
    "    item = (make_xy_system(x0, y0, e), e)    \n",
    "    xy_seqs.append(item)    "
   ]
  },
  {
   "cell_type": "code",
   "execution_count": null,
   "metadata": {
    "collapsed": true
   },
   "outputs": [],
   "source": [
    "def make_transition_from(xs, ys):\n",
    "    us = []\n",
    "    vs = []\n",
    "    for x, y in zip(xs, ys):\n",
    "        u = (x + y) / 2\n",
    "        v = (x - y) / 2\n",
    "        us.append(u)\n",
    "        vs.append(v)\n",
    "    return us, vs\n",
    "\n",
    "uv_seqs = []\n",
    "for seq in xy_seqs:\n",
    "    uv_seqs.append((make_transition_from(*seq[0]), seq[1]))"
   ]
  },
  {
   "cell_type": "markdown",
   "metadata": {},
   "source": [
    "## ln|v_n|(n)"
   ]
  },
  {
   "cell_type": "code",
   "execution_count": null,
   "metadata": {
    "collapsed": false
   },
   "outputs": [],
   "source": [
    "for uv_seq in uv_seqs:\n",
    "    print('e=%s' % uv_seq[1])\n",
    "    ## only != 0\n",
    "    vn = list(filter(lambda x: x != 0, uv_seq[0][1]))\n",
    "    \n",
    "    plt.plot(range(len(vn)), [np.log(np.abs(item)) for item in vn])\n",
    "    plt.show()"
   ]
  },
  {
   "cell_type": "markdown",
   "metadata": {},
   "source": [
    "## v_n(n), u_n(n)"
   ]
  },
  {
   "cell_type": "code",
   "execution_count": null,
   "metadata": {
    "collapsed": false
   },
   "outputs": [],
   "source": [
    "for uv_seq in uv_seqs:\n",
    "    print('e=%s' % uv_seq[1])\n",
    "    plt.plot(uv_seq[0][0], uv_seq[0][1])\n",
    "    plt.show()"
   ]
  },
  {
   "cell_type": "markdown",
   "metadata": {},
   "source": [
    "## (x_n, y_n)"
   ]
  },
  {
   "cell_type": "code",
   "execution_count": null,
   "metadata": {
    "collapsed": false
   },
   "outputs": [],
   "source": [
    "for xy_seq in xy_seqs:\n",
    "    print('e=%s' % xy_seq[1])\n",
    "    plt.plot(xy_seq[0][0], xy_seq[0][1])\n",
    "    plt.show()"
   ]
  },
  {
   "cell_type": "code",
   "execution_count": null,
   "metadata": {
    "collapsed": true
   },
   "outputs": [],
   "source": []
  }
 ],
 "metadata": {
  "kernelspec": {
   "display_name": "Python 3",
   "language": "python",
   "name": "python3"
  },
  "language_info": {
   "codemirror_mode": {
    "name": "ipython",
    "version": 3
   },
   "file_extension": ".py",
   "mimetype": "text/x-python",
   "name": "python",
   "nbconvert_exporter": "python",
   "pygments_lexer": "ipython3",
   "version": "3.5.2"
  }
 },
 "nbformat": 4,
 "nbformat_minor": 1
}
